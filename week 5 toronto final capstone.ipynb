{
 "cells": [
  {
   "cell_type": "markdown",
   "metadata": {},
   "source": [
    "# <font color=brown><u><center>Text IBM DATA SCIENCE </font></u></center>\n",
    "\n",
    "## <font color=orange><center>Capstone Project - The Battle of Neighborhoods </font></center>\n",
    "\n",
    "## <font color=orange>Finding a suitable Neighborhood for Senior Citizens to live in Toromto, Canada </font>"
   ]
  },
  {
   "cell_type": "markdown",
   "metadata": {},
   "source": [
    "<img src=\"download.jpeg\" style=\"height:300px\">"
   ]
  },
  {
   "cell_type": "markdown",
   "metadata": {},
   "source": [
    "## <font color=purple><u>Introduction </font></u>\n"
   ]
  },
  {
   "cell_type": "markdown",
   "metadata": {},
   "source": [
    "### This Capstone project is about the senior citizens comfortness in terms of neighborhoods. The idea behind this project is that there are many neighborhoods around the city, which has their own pros and cons. Keeping in consideration only the senior citizens, this project has tried to find the best neighborhoods to live. Every person wants to retire in a place where they will be comforatble and the basic requirements are in their vicinity. \n",
    "\n",
    "\n",
    "\n",
    "\n",
    "\n"
   ]
  },
  {
   "cell_type": "markdown",
   "metadata": {},
   "source": [
    "# <font color=purple><u>Business Problem </font></u>"
   ]
  },
  {
   "cell_type": "markdown",
   "metadata": {},
   "source": [
    "### The objective of this project is to find out a suitable neighborhood for senior citizens to live in Toronto. By using data science methods and machine learning methods such as clustering, this project aims to provide solution to answer the business question: In Toronto, \"WHICH IS THE BEST NEIGHBORHOOD FOR SENIOR CITIZENS TO LIVE IN TORONTO."
   ]
  },
  {
   "cell_type": "markdown",
   "metadata": {},
   "source": [
    "## <font color=purple><u>Target Audience </font></u>\n",
    "\n",
    "### The Real Estate Agents, Developers and Senior Citizens, who need to decide a neighborhood for their clents and themselves, respectively.\n",
    "\n",
    "## <font color=purple><u>Data </font></u>\n",
    "\n",
    "### To solve this problem, the required data are:\n",
    "\n",
    "### - List of neighborhoods in Toronto, Canada.\n",
    "### - Latitude and Longitude of these neighborhoods.\n",
    "### - Venue category data related to pharmacy, park, grocery store, medical center and bank.\n",
    "\n",
    "### This will help us find the neighborhoods."
   ]
  },
  {
   "cell_type": "markdown",
   "metadata": {},
   "source": [
    "## <font color=purple><u>Extracting the data </font></u>\n",
    "\n",
    "### - Scrapping of Toronto neighborhoods via Wikipedia.\n",
    "### - Getting Latitude and Longitude data of these neighborhoods via Geocoder package.\n",
    "### - Using Foursquare API to get venue category data related to these neighborhoods."
   ]
  },
  {
   "cell_type": "markdown",
   "metadata": {},
   "source": [
    "## <font color=purple><u>Methodology</font></u>\n",
    "\n",
    "### First, to get the list of neighborhoods in Toronto, Canada the data is extracted from the wikipedia page: (“https://en.wikipedia.org/wiki/List_of_postal_codes_of_Canada:_M”)\n",
    "\n",
    "### The data is scrapped by utilizing pandas html table using scraping method as it is easier and more convenient to pull tabular data directly from a web page into dataframe.\n",
    "\n",
    "### However, it is only a list of neighborhood names and postal codes. Foursquare is used to pull the list of venues near these neighborhoods. To get the coordinates, The coordinates are retrived from http://cocl.us/Geospatial_data "
   ]
  },
  {
   "cell_type": "markdown",
   "metadata": {},
   "source": [
    "### After gathering all these coordinates the Foursquare API is used to pull the list of top 100 Venue within 500 meters radius. A Foursquare developer account is needed in order to obtain Client_ID and API key to pull the data. From Foursquare the names, categories, latitude and longitude of the venues are extracted. The extracted data related to pharmacy, park, grocery store, medical center and bank categories, are considered as the basic requirements for the Senior Citizens to live. Each neighborhood is analyzed by grouping the rows by neighborhood and taking the occurrence of each venue category.\n",
    "\n",
    "\n",
    "### At last, the clustering method, k-means clustering is performed. K-means clustering algorithm identifies k number of centeriods, and then allocates every data point to the nearest cluster, while keeping the centroids as small as possible. It is one of the simplest and popular unsupervised machine learning algorithms and it is highly suited for this project as well. The neighborhoods in Toronto are Clustered into 3 clusters based on the occurrence of the venue categories. Based on the results (the concentration of clusters), this project is able to recommend the ideal location for senior citizens to reside. \n",
    "\n",
    "\n",
    "\n",
    "\n",
    "\n"
   ]
  },
  {
   "cell_type": "markdown",
   "metadata": {},
   "source": [
    "## <font color=purple><u>Results </font></u>\n",
    "\n"
   ]
  },
  {
   "cell_type": "markdown",
   "metadata": {},
   "source": [
    "<img src=\"final cluster map.png\" style=\"height:500px\">"
   ]
  },
  {
   "cell_type": "markdown",
   "metadata": {},
   "source": [
    "###  The results from k-means clustering show that we can categorize Toronto neighborhoods into 3 clusters based on the categories in each neighborhood:\n",
    "\n",
    "### <font color=red>Cluster 0: Most of the requirements for senior citizens are met in Cluster 0 which has 22 Neighborhoods.</font>\n",
    "### <font color=purple>Cluster 1: All the neighborhoods(16) in Cluster 1 has Bank with few other requirements.</font>\n",
    "### <font color=green>Cluster 2: all the neighborhoods(22) in Cluster 2 has Parks with few other requirements.</font>\n",
    "\n",
    "### The results are visualized in the above map with Cluster 0 in red color, Cluster 1 in purple color and Cluster 2 in light green color.\n",
    "\n",
    "## <font color=purple><u>Recommendations</font></u>\n",
    "\n",
    "### Most of the requirements for senior citizens are met in Cluster 0 which has 22 Neighborhoods. All the neighborhoods(16) in Cluster 1 has Bank and all the neighborhoods(22) in Cluster 2 has Parks. Looking at nearby venues, it seems Cluster 0 might be a good location as most of the requirements are met in these neighborhoods. Therefore, this project recommends the neighborhoods suitable for the senior citizens to live in Toronto. The Real Estate brokers, Agents and developers can look into the report and see and determine which neighborhood is suitable for their clients in Toronto.\n",
    "\n",
    "## <font color=purple><u>Limitations and Suggestions for Future Research</font></u>\n",
    "\n",
    "### In this project, i took into consideration 5 categories i.e. pharmacy, park, grocery store, medical center and bank. There are many other factors that can be taken into consideration such as entertainment, crime rate, housing prices, that could influence the decision of a neighborhood. However, to put all these data into this project is not possible to do within a short time frame for this capstone project. Future research can take into consideration of these factors.\n",
    "\n",
    "## <font color=purple><u>Conclusion</font></u>\n",
    "\n",
    "### In this project, we have gone through the process of identifying the business problem, specifying the data required, extracting and preparing the data, performing the machine learning by utilizing k-means clustering and providing recommendation to the stakeholder.\n",
    "\n",
    "## <font color=purple><u>References</font></u>\n",
    "\n",
    "### List of neighborhoods in Toronto: https://en.wikipedia.org/wiki/List_of_postal_codes_of_Canada:_M\n",
    "\n",
    "### Foursquare Developer Documentation: https://developer.foursquare.com/docs\n",
    "\n",
    "### All codes for this project can be found here: https://github.com/sarawgiabhilasha/Coursera_Capstone/blob/master/IBM%20final%20capstone%20project%202020.ipynb"
   ]
  },
  {
   "cell_type": "code",
   "execution_count": null,
   "metadata": {},
   "outputs": [],
   "source": []
  },
  {
   "cell_type": "code",
   "execution_count": null,
   "metadata": {},
   "outputs": [],
   "source": []
  }
 ],
 "metadata": {
  "kernelspec": {
   "display_name": "Python 3",
   "language": "python",
   "name": "python3"
  },
  "language_info": {
   "codemirror_mode": {
    "name": "ipython",
    "version": 3
   },
   "file_extension": ".py",
   "mimetype": "text/x-python",
   "name": "python",
   "nbconvert_exporter": "python",
   "pygments_lexer": "ipython3",
   "version": "3.7.6"
  }
 },
 "nbformat": 4,
 "nbformat_minor": 4
}
